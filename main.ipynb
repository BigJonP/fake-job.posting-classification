{
 "cells": [
  {
   "cell_type": "code",
   "execution_count": 1,
   "metadata": {},
   "outputs": [
    {
     "name": "stdout",
     "output_type": "stream",
     "text": [
      "Requirement already satisfied: pandas in c:\\users\\jonat\\desktop\\university\\job-posting-validation\\venv\\lib\\site-packages (from -r requirements-main.txt (line 1)) (2.2.1)\n",
      "Requirement already satisfied: clean-text in c:\\users\\jonat\\desktop\\university\\job-posting-validation\\venv\\lib\\site-packages (from -r requirements-main.txt (line 2)) (0.6.0)\n",
      "Requirement already satisfied: nltk in c:\\users\\jonat\\desktop\\university\\job-posting-validation\\venv\\lib\\site-packages (from -r requirements-main.txt (line 3)) (3.8.1)\n",
      "Requirement already satisfied: scikit-learn in c:\\users\\jonat\\desktop\\university\\job-posting-validation\\venv\\lib\\site-packages (from -r requirements-main.txt (line 4)) (1.4.1.post1)\n",
      "Requirement already satisfied: tensorflow in c:\\users\\jonat\\desktop\\university\\job-posting-validation\\venv\\lib\\site-packages (from -r requirements-main.txt (line 5)) (2.16.1)\n",
      "Requirement already satisfied: gensim in c:\\users\\jonat\\desktop\\university\\job-posting-validation\\venv\\lib\\site-packages (from -r requirements-main.txt (line 6)) (4.3.2)\n",
      "Requirement already satisfied: optuna in c:\\users\\jonat\\desktop\\university\\job-posting-validation\\venv\\lib\\site-packages (from -r requirements-main.txt (line 7)) (3.6.1)\n",
      "Requirement already satisfied: numpy<2,>=1.23.2 in c:\\users\\jonat\\desktop\\university\\job-posting-validation\\venv\\lib\\site-packages (from pandas->-r requirements-main.txt (line 1)) (1.26.4)\n",
      "Requirement already satisfied: python-dateutil>=2.8.2 in c:\\users\\jonat\\desktop\\university\\job-posting-validation\\venv\\lib\\site-packages (from pandas->-r requirements-main.txt (line 1)) (2.9.0.post0)\n",
      "Requirement already satisfied: pytz>=2020.1 in c:\\users\\jonat\\desktop\\university\\job-posting-validation\\venv\\lib\\site-packages (from pandas->-r requirements-main.txt (line 1)) (2024.1)\n",
      "Requirement already satisfied: tzdata>=2022.7 in c:\\users\\jonat\\desktop\\university\\job-posting-validation\\venv\\lib\\site-packages (from pandas->-r requirements-main.txt (line 1)) (2024.1)\n",
      "Requirement already satisfied: emoji<2.0.0,>=1.0.0 in c:\\users\\jonat\\desktop\\university\\job-posting-validation\\venv\\lib\\site-packages (from clean-text->-r requirements-main.txt (line 2)) (1.7.0)\n",
      "Requirement already satisfied: ftfy<7.0,>=6.0 in c:\\users\\jonat\\desktop\\university\\job-posting-validation\\venv\\lib\\site-packages (from clean-text->-r requirements-main.txt (line 2)) (6.2.0)\n",
      "Requirement already satisfied: click in c:\\users\\jonat\\desktop\\university\\job-posting-validation\\venv\\lib\\site-packages (from nltk->-r requirements-main.txt (line 3)) (8.1.7)\n",
      "Requirement already satisfied: joblib in c:\\users\\jonat\\desktop\\university\\job-posting-validation\\venv\\lib\\site-packages (from nltk->-r requirements-main.txt (line 3)) (1.3.2)\n",
      "Requirement already satisfied: regex>=2021.8.3 in c:\\users\\jonat\\desktop\\university\\job-posting-validation\\venv\\lib\\site-packages (from nltk->-r requirements-main.txt (line 3)) (2023.12.25)\n",
      "Requirement already satisfied: tqdm in c:\\users\\jonat\\desktop\\university\\job-posting-validation\\venv\\lib\\site-packages (from nltk->-r requirements-main.txt (line 3)) (4.66.2)\n",
      "Requirement already satisfied: scipy>=1.6.0 in c:\\users\\jonat\\desktop\\university\\job-posting-validation\\venv\\lib\\site-packages (from scikit-learn->-r requirements-main.txt (line 4)) (1.12.0)\n",
      "Requirement already satisfied: threadpoolctl>=2.0.0 in c:\\users\\jonat\\desktop\\university\\job-posting-validation\\venv\\lib\\site-packages (from scikit-learn->-r requirements-main.txt (line 4)) (3.4.0)\n",
      "Requirement already satisfied: tensorflow-intel==2.16.1 in c:\\users\\jonat\\desktop\\university\\job-posting-validation\\venv\\lib\\site-packages (from tensorflow->-r requirements-main.txt (line 5)) (2.16.1)\n",
      "Requirement already satisfied: absl-py>=1.0.0 in c:\\users\\jonat\\desktop\\university\\job-posting-validation\\venv\\lib\\site-packages (from tensorflow-intel==2.16.1->tensorflow->-r requirements-main.txt (line 5)) (2.1.0)\n",
      "Requirement already satisfied: astunparse>=1.6.0 in c:\\users\\jonat\\desktop\\university\\job-posting-validation\\venv\\lib\\site-packages (from tensorflow-intel==2.16.1->tensorflow->-r requirements-main.txt (line 5)) (1.6.3)\n",
      "Requirement already satisfied: flatbuffers>=23.5.26 in c:\\users\\jonat\\desktop\\university\\job-posting-validation\\venv\\lib\\site-packages (from tensorflow-intel==2.16.1->tensorflow->-r requirements-main.txt (line 5)) (24.3.25)\n",
      "Requirement already satisfied: gast!=0.5.0,!=0.5.1,!=0.5.2,>=0.2.1 in c:\\users\\jonat\\desktop\\university\\job-posting-validation\\venv\\lib\\site-packages (from tensorflow-intel==2.16.1->tensorflow->-r requirements-main.txt (line 5)) (0.5.4)\n",
      "Requirement already satisfied: google-pasta>=0.1.1 in c:\\users\\jonat\\desktop\\university\\job-posting-validation\\venv\\lib\\site-packages (from tensorflow-intel==2.16.1->tensorflow->-r requirements-main.txt (line 5)) (0.2.0)\n",
      "Requirement already satisfied: h5py>=3.10.0 in c:\\users\\jonat\\desktop\\university\\job-posting-validation\\venv\\lib\\site-packages (from tensorflow-intel==2.16.1->tensorflow->-r requirements-main.txt (line 5)) (3.11.0)\n",
      "Requirement already satisfied: libclang>=13.0.0 in c:\\users\\jonat\\desktop\\university\\job-posting-validation\\venv\\lib\\site-packages (from tensorflow-intel==2.16.1->tensorflow->-r requirements-main.txt (line 5)) (18.1.1)\n",
      "Requirement already satisfied: ml-dtypes~=0.3.1 in c:\\users\\jonat\\desktop\\university\\job-posting-validation\\venv\\lib\\site-packages (from tensorflow-intel==2.16.1->tensorflow->-r requirements-main.txt (line 5)) (0.3.2)\n",
      "Requirement already satisfied: opt-einsum>=2.3.2 in c:\\users\\jonat\\desktop\\university\\job-posting-validation\\venv\\lib\\site-packages (from tensorflow-intel==2.16.1->tensorflow->-r requirements-main.txt (line 5)) (3.3.0)\n",
      "Requirement already satisfied: packaging in c:\\users\\jonat\\desktop\\university\\job-posting-validation\\venv\\lib\\site-packages (from tensorflow-intel==2.16.1->tensorflow->-r requirements-main.txt (line 5)) (24.0)\n",
      "Requirement already satisfied: protobuf!=4.21.0,!=4.21.1,!=4.21.2,!=4.21.3,!=4.21.4,!=4.21.5,<5.0.0dev,>=3.20.3 in c:\\users\\jonat\\desktop\\university\\job-posting-validation\\venv\\lib\\site-packages (from tensorflow-intel==2.16.1->tensorflow->-r requirements-main.txt (line 5)) (4.25.3)\n",
      "Requirement already satisfied: requests<3,>=2.21.0 in c:\\users\\jonat\\desktop\\university\\job-posting-validation\\venv\\lib\\site-packages (from tensorflow-intel==2.16.1->tensorflow->-r requirements-main.txt (line 5)) (2.31.0)\n",
      "Requirement already satisfied: setuptools in c:\\users\\jonat\\desktop\\university\\job-posting-validation\\venv\\lib\\site-packages (from tensorflow-intel==2.16.1->tensorflow->-r requirements-main.txt (line 5)) (65.5.0)\n",
      "Requirement already satisfied: six>=1.12.0 in c:\\users\\jonat\\desktop\\university\\job-posting-validation\\venv\\lib\\site-packages (from tensorflow-intel==2.16.1->tensorflow->-r requirements-main.txt (line 5)) (1.16.0)\n",
      "Requirement already satisfied: termcolor>=1.1.0 in c:\\users\\jonat\\desktop\\university\\job-posting-validation\\venv\\lib\\site-packages (from tensorflow-intel==2.16.1->tensorflow->-r requirements-main.txt (line 5)) (2.4.0)\n",
      "Requirement already satisfied: typing-extensions>=3.6.6 in c:\\users\\jonat\\desktop\\university\\job-posting-validation\\venv\\lib\\site-packages (from tensorflow-intel==2.16.1->tensorflow->-r requirements-main.txt (line 5)) (4.11.0)\n",
      "Requirement already satisfied: wrapt>=1.11.0 in c:\\users\\jonat\\desktop\\university\\job-posting-validation\\venv\\lib\\site-packages (from tensorflow-intel==2.16.1->tensorflow->-r requirements-main.txt (line 5)) (1.16.0)\n",
      "Requirement already satisfied: grpcio<2.0,>=1.24.3 in c:\\users\\jonat\\desktop\\university\\job-posting-validation\\venv\\lib\\site-packages (from tensorflow-intel==2.16.1->tensorflow->-r requirements-main.txt (line 5)) (1.63.0)\n",
      "Requirement already satisfied: tensorboard<2.17,>=2.16 in c:\\users\\jonat\\desktop\\university\\job-posting-validation\\venv\\lib\\site-packages (from tensorflow-intel==2.16.1->tensorflow->-r requirements-main.txt (line 5)) (2.16.2)\n",
      "Requirement already satisfied: keras>=3.0.0 in c:\\users\\jonat\\desktop\\university\\job-posting-validation\\venv\\lib\\site-packages (from tensorflow-intel==2.16.1->tensorflow->-r requirements-main.txt (line 5)) (3.3.3)\n",
      "Requirement already satisfied: tensorflow-io-gcs-filesystem>=0.23.1 in c:\\users\\jonat\\desktop\\university\\job-posting-validation\\venv\\lib\\site-packages (from tensorflow-intel==2.16.1->tensorflow->-r requirements-main.txt (line 5)) (0.31.0)\n",
      "Requirement already satisfied: smart-open>=1.8.1 in c:\\users\\jonat\\desktop\\university\\job-posting-validation\\venv\\lib\\site-packages (from gensim->-r requirements-main.txt (line 6)) (7.0.4)\n",
      "Requirement already satisfied: alembic>=1.5.0 in c:\\users\\jonat\\desktop\\university\\job-posting-validation\\venv\\lib\\site-packages (from optuna->-r requirements-main.txt (line 7)) (1.13.1)\n",
      "Requirement already satisfied: colorlog in c:\\users\\jonat\\desktop\\university\\job-posting-validation\\venv\\lib\\site-packages (from optuna->-r requirements-main.txt (line 7)) (6.8.2)\n",
      "Requirement already satisfied: sqlalchemy>=1.3.0 in c:\\users\\jonat\\desktop\\university\\job-posting-validation\\venv\\lib\\site-packages (from optuna->-r requirements-main.txt (line 7)) (2.0.30)\n",
      "Requirement already satisfied: PyYAML in c:\\users\\jonat\\desktop\\university\\job-posting-validation\\venv\\lib\\site-packages (from optuna->-r requirements-main.txt (line 7)) (6.0.1)\n",
      "Requirement already satisfied: Mako in c:\\users\\jonat\\desktop\\university\\job-posting-validation\\venv\\lib\\site-packages (from alembic>=1.5.0->optuna->-r requirements-main.txt (line 7)) (1.3.3)\n",
      "Requirement already satisfied: wcwidth<0.3.0,>=0.2.12 in c:\\users\\jonat\\desktop\\university\\job-posting-validation\\venv\\lib\\site-packages (from ftfy<7.0,>=6.0->clean-text->-r requirements-main.txt (line 2)) (0.2.13)\n",
      "Requirement already satisfied: greenlet!=0.4.17 in c:\\users\\jonat\\desktop\\university\\job-posting-validation\\venv\\lib\\site-packages (from sqlalchemy>=1.3.0->optuna->-r requirements-main.txt (line 7)) (3.0.3)\n",
      "Requirement already satisfied: colorama in c:\\users\\jonat\\desktop\\university\\job-posting-validation\\venv\\lib\\site-packages (from click->nltk->-r requirements-main.txt (line 3)) (0.4.6)\n",
      "Requirement already satisfied: wheel<1.0,>=0.23.0 in c:\\users\\jonat\\desktop\\university\\job-posting-validation\\venv\\lib\\site-packages (from astunparse>=1.6.0->tensorflow-intel==2.16.1->tensorflow->-r requirements-main.txt (line 5)) (0.43.0)\n",
      "Requirement already satisfied: rich in c:\\users\\jonat\\desktop\\university\\job-posting-validation\\venv\\lib\\site-packages (from keras>=3.0.0->tensorflow-intel==2.16.1->tensorflow->-r requirements-main.txt (line 5)) (13.7.1)\n",
      "Requirement already satisfied: namex in c:\\users\\jonat\\desktop\\university\\job-posting-validation\\venv\\lib\\site-packages (from keras>=3.0.0->tensorflow-intel==2.16.1->tensorflow->-r requirements-main.txt (line 5)) (0.0.8)\n",
      "Requirement already satisfied: optree in c:\\users\\jonat\\desktop\\university\\job-posting-validation\\venv\\lib\\site-packages (from keras>=3.0.0->tensorflow-intel==2.16.1->tensorflow->-r requirements-main.txt (line 5)) (0.11.0)\n",
      "Requirement already satisfied: charset-normalizer<4,>=2 in c:\\users\\jonat\\desktop\\university\\job-posting-validation\\venv\\lib\\site-packages (from requests<3,>=2.21.0->tensorflow-intel==2.16.1->tensorflow->-r requirements-main.txt (line 5)) (3.3.2)\n",
      "Requirement already satisfied: idna<4,>=2.5 in c:\\users\\jonat\\desktop\\university\\job-posting-validation\\venv\\lib\\site-packages (from requests<3,>=2.21.0->tensorflow-intel==2.16.1->tensorflow->-r requirements-main.txt (line 5)) (3.7)\n",
      "Requirement already satisfied: urllib3<3,>=1.21.1 in c:\\users\\jonat\\desktop\\university\\job-posting-validation\\venv\\lib\\site-packages (from requests<3,>=2.21.0->tensorflow-intel==2.16.1->tensorflow->-r requirements-main.txt (line 5)) (2.2.1)\n",
      "Requirement already satisfied: certifi>=2017.4.17 in c:\\users\\jonat\\desktop\\university\\job-posting-validation\\venv\\lib\\site-packages (from requests<3,>=2.21.0->tensorflow-intel==2.16.1->tensorflow->-r requirements-main.txt (line 5)) (2024.2.2)\n",
      "Requirement already satisfied: markdown>=2.6.8 in c:\\users\\jonat\\desktop\\university\\job-posting-validation\\venv\\lib\\site-packages (from tensorboard<2.17,>=2.16->tensorflow-intel==2.16.1->tensorflow->-r requirements-main.txt (line 5)) (3.6)\n",
      "Requirement already satisfied: tensorboard-data-server<0.8.0,>=0.7.0 in c:\\users\\jonat\\desktop\\university\\job-posting-validation\\venv\\lib\\site-packages (from tensorboard<2.17,>=2.16->tensorflow-intel==2.16.1->tensorflow->-r requirements-main.txt (line 5)) (0.7.2)\n",
      "Requirement already satisfied: werkzeug>=1.0.1 in c:\\users\\jonat\\desktop\\university\\job-posting-validation\\venv\\lib\\site-packages (from tensorboard<2.17,>=2.16->tensorflow-intel==2.16.1->tensorflow->-r requirements-main.txt (line 5)) (3.0.2)\n",
      "Requirement already satisfied: MarkupSafe>=0.9.2 in c:\\users\\jonat\\desktop\\university\\job-posting-validation\\venv\\lib\\site-packages (from Mako->alembic>=1.5.0->optuna->-r requirements-main.txt (line 7)) (2.1.5)\n",
      "Requirement already satisfied: markdown-it-py>=2.2.0 in c:\\users\\jonat\\desktop\\university\\job-posting-validation\\venv\\lib\\site-packages (from rich->keras>=3.0.0->tensorflow-intel==2.16.1->tensorflow->-r requirements-main.txt (line 5)) (3.0.0)\n",
      "Requirement already satisfied: pygments<3.0.0,>=2.13.0 in c:\\users\\jonat\\desktop\\university\\job-posting-validation\\venv\\lib\\site-packages (from rich->keras>=3.0.0->tensorflow-intel==2.16.1->tensorflow->-r requirements-main.txt (line 5)) (2.17.2)\n",
      "Requirement already satisfied: mdurl~=0.1 in c:\\users\\jonat\\desktop\\university\\job-posting-validation\\venv\\lib\\site-packages (from markdown-it-py>=2.2.0->rich->keras>=3.0.0->tensorflow-intel==2.16.1->tensorflow->-r requirements-main.txt (line 5)) (0.1.2)\n"
     ]
    },
    {
     "name": "stderr",
     "output_type": "stream",
     "text": [
      "\n",
      "[notice] A new release of pip is available: 23.2.1 -> 24.0\n",
      "[notice] To update, run: python.exe -m pip install --upgrade pip\n"
     ]
    }
   ],
   "source": [
    "!pip install -r requirements-main.txt"
   ]
  },
  {
   "cell_type": "code",
   "execution_count": 2,
   "metadata": {},
   "outputs": [],
   "source": [
    "import pandas as pd"
   ]
  },
  {
   "cell_type": "code",
   "execution_count": 3,
   "metadata": {},
   "outputs": [
    {
     "name": "stderr",
     "output_type": "stream",
     "text": [
      "C:\\Users\\jonat\\AppData\\Local\\Temp\\ipykernel_22788\\799091272.py:4: FutureWarning: A value is trying to be set on a copy of a DataFrame or Series through chained assignment using an inplace method.\n",
      "The behavior will change in pandas 3.0. This inplace method will never work because the intermediate object on which we are setting values always behaves as a copy.\n",
      "\n",
      "For example, when doing 'df[col].method(value, inplace=True)', try using 'df.method({col: value}, inplace=True)' or df[col] = df[col].method(value) instead, to perform the operation inplace on the original object.\n",
      "\n",
      "\n",
      "  df[col].fillna(\"DIDNOTPROVIDE\" + col, inplace=True)\n"
     ]
    },
    {
     "data": {
      "text/html": [
       "<div>\n",
       "<style scoped>\n",
       "    .dataframe tbody tr th:only-of-type {\n",
       "        vertical-align: middle;\n",
       "    }\n",
       "\n",
       "    .dataframe tbody tr th {\n",
       "        vertical-align: top;\n",
       "    }\n",
       "\n",
       "    .dataframe thead th {\n",
       "        text-align: right;\n",
       "    }\n",
       "</style>\n",
       "<table border=\"1\" class=\"dataframe\">\n",
       "  <thead>\n",
       "    <tr style=\"text-align: right;\">\n",
       "      <th></th>\n",
       "      <th>title</th>\n",
       "      <th>location</th>\n",
       "      <th>department</th>\n",
       "      <th>salary_range</th>\n",
       "      <th>company_profile</th>\n",
       "      <th>description</th>\n",
       "      <th>requirements</th>\n",
       "      <th>benefits</th>\n",
       "      <th>telecommuting</th>\n",
       "      <th>has_company_logo</th>\n",
       "      <th>has_questions</th>\n",
       "      <th>employment_type</th>\n",
       "      <th>required_experience</th>\n",
       "      <th>required_education</th>\n",
       "      <th>industry</th>\n",
       "      <th>function</th>\n",
       "      <th>fraudulent</th>\n",
       "    </tr>\n",
       "  </thead>\n",
       "  <tbody>\n",
       "    <tr>\n",
       "      <th>0</th>\n",
       "      <td>Marketing Intern</td>\n",
       "      <td>US, NY, New York</td>\n",
       "      <td>Marketing</td>\n",
       "      <td>DIDNOTPROVIDEsalary_range</td>\n",
       "      <td>We're Food52, and we've created a groundbreaki...</td>\n",
       "      <td>Food52, a fast-growing, James Beard Award-winn...</td>\n",
       "      <td>Experience with content management systems a m...</td>\n",
       "      <td>DIDNOTPROVIDEbenefits</td>\n",
       "      <td>0</td>\n",
       "      <td>1</td>\n",
       "      <td>0</td>\n",
       "      <td>Other</td>\n",
       "      <td>Internship</td>\n",
       "      <td>DIDNOTPROVIDErequired_education</td>\n",
       "      <td>DIDNOTPROVIDEindustry</td>\n",
       "      <td>Marketing</td>\n",
       "      <td>0</td>\n",
       "    </tr>\n",
       "    <tr>\n",
       "      <th>1</th>\n",
       "      <td>Customer Service - Cloud Video Production</td>\n",
       "      <td>NZ, , Auckland</td>\n",
       "      <td>Success</td>\n",
       "      <td>DIDNOTPROVIDEsalary_range</td>\n",
       "      <td>90 Seconds, the worlds Cloud Video Production ...</td>\n",
       "      <td>Organised - Focused - Vibrant - Awesome!Do you...</td>\n",
       "      <td>What we expect from you:Your key responsibilit...</td>\n",
       "      <td>What you will get from usThrough being part of...</td>\n",
       "      <td>0</td>\n",
       "      <td>1</td>\n",
       "      <td>0</td>\n",
       "      <td>Full-time</td>\n",
       "      <td>Not Applicable</td>\n",
       "      <td>DIDNOTPROVIDErequired_education</td>\n",
       "      <td>Marketing and Advertising</td>\n",
       "      <td>Customer Service</td>\n",
       "      <td>0</td>\n",
       "    </tr>\n",
       "    <tr>\n",
       "      <th>2</th>\n",
       "      <td>Commissioning Machinery Assistant (CMA)</td>\n",
       "      <td>US, IA, Wever</td>\n",
       "      <td>DIDNOTPROVIDEdepartment</td>\n",
       "      <td>DIDNOTPROVIDEsalary_range</td>\n",
       "      <td>Valor Services provides Workforce Solutions th...</td>\n",
       "      <td>Our client, located in Houston, is actively se...</td>\n",
       "      <td>Implement pre-commissioning and commissioning ...</td>\n",
       "      <td>DIDNOTPROVIDEbenefits</td>\n",
       "      <td>0</td>\n",
       "      <td>1</td>\n",
       "      <td>0</td>\n",
       "      <td>DIDNOTPROVIDEemployment_type</td>\n",
       "      <td>DIDNOTPROVIDErequired_experience</td>\n",
       "      <td>DIDNOTPROVIDErequired_education</td>\n",
       "      <td>DIDNOTPROVIDEindustry</td>\n",
       "      <td>DIDNOTPROVIDEfunction</td>\n",
       "      <td>0</td>\n",
       "    </tr>\n",
       "  </tbody>\n",
       "</table>\n",
       "</div>"
      ],
      "text/plain": [
       "                                       title          location  \\\n",
       "0                           Marketing Intern  US, NY, New York   \n",
       "1  Customer Service - Cloud Video Production    NZ, , Auckland   \n",
       "2    Commissioning Machinery Assistant (CMA)     US, IA, Wever   \n",
       "\n",
       "                department               salary_range  \\\n",
       "0                Marketing  DIDNOTPROVIDEsalary_range   \n",
       "1                  Success  DIDNOTPROVIDEsalary_range   \n",
       "2  DIDNOTPROVIDEdepartment  DIDNOTPROVIDEsalary_range   \n",
       "\n",
       "                                     company_profile  \\\n",
       "0  We're Food52, and we've created a groundbreaki...   \n",
       "1  90 Seconds, the worlds Cloud Video Production ...   \n",
       "2  Valor Services provides Workforce Solutions th...   \n",
       "\n",
       "                                         description  \\\n",
       "0  Food52, a fast-growing, James Beard Award-winn...   \n",
       "1  Organised - Focused - Vibrant - Awesome!Do you...   \n",
       "2  Our client, located in Houston, is actively se...   \n",
       "\n",
       "                                        requirements  \\\n",
       "0  Experience with content management systems a m...   \n",
       "1  What we expect from you:Your key responsibilit...   \n",
       "2  Implement pre-commissioning and commissioning ...   \n",
       "\n",
       "                                            benefits  telecommuting  \\\n",
       "0                              DIDNOTPROVIDEbenefits              0   \n",
       "1  What you will get from usThrough being part of...              0   \n",
       "2                              DIDNOTPROVIDEbenefits              0   \n",
       "\n",
       "   has_company_logo  has_questions               employment_type  \\\n",
       "0                 1              0                         Other   \n",
       "1                 1              0                     Full-time   \n",
       "2                 1              0  DIDNOTPROVIDEemployment_type   \n",
       "\n",
       "                required_experience               required_education  \\\n",
       "0                        Internship  DIDNOTPROVIDErequired_education   \n",
       "1                    Not Applicable  DIDNOTPROVIDErequired_education   \n",
       "2  DIDNOTPROVIDErequired_experience  DIDNOTPROVIDErequired_education   \n",
       "\n",
       "                    industry               function  fraudulent  \n",
       "0      DIDNOTPROVIDEindustry              Marketing           0  \n",
       "1  Marketing and Advertising       Customer Service           0  \n",
       "2      DIDNOTPROVIDEindustry  DIDNOTPROVIDEfunction           0  "
      ]
     },
     "execution_count": 3,
     "metadata": {},
     "output_type": "execute_result"
    }
   ],
   "source": [
    "df = pd.read_csv(\"fake_job_postings.csv\")\n",
    "del df['job_id']\n",
    "for col in df.columns:\n",
    "    df[col].fillna(\"DIDNOTPROVIDE\" + col, inplace=True)\n",
    "df.fillna(\" \",inplace = True)\n",
    "df.head(3)"
   ]
  },
  {
   "cell_type": "code",
   "execution_count": 4,
   "metadata": {},
   "outputs": [
    {
     "name": "stdout",
     "output_type": "stream",
     "text": [
      "title has 11231 unique occurences\n",
      "location has 3106 unique occurences\n",
      "department has 1338 unique occurences\n",
      "salary_range has 875 unique occurences\n",
      "company_profile has 1710 unique occurences\n",
      "description has 14802 unique occurences\n",
      "requirements has 11968 unique occurences\n",
      "benefits has 6205 unique occurences\n",
      "telecommuting has 2 unique occurences\n",
      "has_company_logo has 2 unique occurences\n",
      "has_questions has 2 unique occurences\n",
      "employment_type has 6 unique occurences\n",
      "required_experience has 8 unique occurences\n",
      "required_education has 14 unique occurences\n",
      "industry has 132 unique occurences\n",
      "function has 38 unique occurences\n",
      "fraudulent has 2 unique occurences\n"
     ]
    }
   ],
   "source": [
    "for col in df.columns:\n",
    "    print(\"{} has {} unique occurences\".format(col, len(df[col].value_counts())))"
   ]
  },
  {
   "cell_type": "code",
   "execution_count": 5,
   "metadata": {},
   "outputs": [
    {
     "data": {
      "text/plain": [
       "\"Marketing Intern Marketing US, NY, New York We're Food52, and we've created a groundbreaking and award-winning cooking site. We support, connect, and celebrate home cooks, and give them everything they need in one place.We have a top editorial, business, and engineering team. We're focused on using technology to find new and better ways to connect people around their specific food interests, and to offer them superb, highly curated information about food and cooking. We attract the most talented home cooks and contributors in the country; we also publish well-known professionals like Mario Batali, Gwyneth Paltrow, and Danny Meyer. And we have partnerships with Whole Foods Market and Random House.Food52 has been named the best food website by the James Beard Foundation and IACP, and has been featured in the New York Times, NPR, Pando Daily, TechCrunch, and on the Today Show.We're located in Chelsea, in New York City. Food52, a fast-growing, James Beard Award-winning online food community and crowd-sourced and curated recipe hub, is currently interviewing full- and part-time unpaid interns to work in a small team of editors, executives, and developers in its New York City headquarters.Reproducing and/or repackaging existing Food52 content for a number of partner sites, such as Huffington Post, Yahoo, Buzzfeed, and more in their various content management systemsResearching blogs and websites for the Provisions by Food52 Affiliate ProgramAssisting in day-to-day affiliate program support, such as screening affiliates and assisting in any affiliate inquiriesSupporting with PR &amp; Events when neededHelping with office administrative work, such as filing, mailing, and preparing for meetingsWorking with developers to document bugs and suggest improvements to the siteSupporting the marketing and executive staff Experience with content management systems a major plus (any blogging counts!)Familiar with the Food52 editorial voice and aestheticLoves food, appreciates the importance of home cooking and cooking with the seasonsMeticulous editor, perfectionist, obsessive attention to detail, maddened by typos and broken links, delighted by finding and fixing themCheerful under pressureExcellent communication skillsA+ multi-tasker and juggler of responsibilities big and smallInterested in and engaged with social media like Twitter, Facebook, and PinterestLoves problem-solving and collaborating to drive Food52 forwardThinks big picture but pitches in on the nitty gritty of running a small company (dishes, shopping, administrative support)Comfortable with the realities of working for a startup: being on call on evenings and weekends, and working long hours DIDNOTPROVIDEbenefits\""
      ]
     },
     "execution_count": 5,
     "metadata": {},
     "output_type": "execute_result"
    }
   ],
   "source": [
    "df[\"text\"] = df[\"title\"] + \" \" + df[\"department\"] + \" \" + df[\"location\"] + \" \" + df[\"company_profile\"] + \" \" + df[\"description\"] + \" \" + df[\"requirements\"] + \" \" + df[\"benefits\"]\n",
    "df[\"text\"][0]"
   ]
  },
  {
   "cell_type": "code",
   "execution_count": 6,
   "metadata": {},
   "outputs": [],
   "source": [
    "del df[\"title\"]\n",
    "del df[\"department\"]\n",
    "del df[\"location\"]\n",
    "del df[\"company_profile\"]\n",
    "del df[\"description\"]\n",
    "del df[\"requirements\"]\n",
    "del df[\"benefits\"]"
   ]
  },
  {
   "cell_type": "code",
   "execution_count": 7,
   "metadata": {},
   "outputs": [
    {
     "data": {
      "text/html": [
       "<div>\n",
       "<style scoped>\n",
       "    .dataframe tbody tr th:only-of-type {\n",
       "        vertical-align: middle;\n",
       "    }\n",
       "\n",
       "    .dataframe tbody tr th {\n",
       "        vertical-align: top;\n",
       "    }\n",
       "\n",
       "    .dataframe thead th {\n",
       "        text-align: right;\n",
       "    }\n",
       "</style>\n",
       "<table border=\"1\" class=\"dataframe\">\n",
       "  <thead>\n",
       "    <tr style=\"text-align: right;\">\n",
       "      <th></th>\n",
       "      <th>salary_range</th>\n",
       "      <th>telecommuting</th>\n",
       "      <th>has_company_logo</th>\n",
       "      <th>has_questions</th>\n",
       "      <th>employment_type</th>\n",
       "      <th>required_experience</th>\n",
       "      <th>required_education</th>\n",
       "      <th>industry</th>\n",
       "      <th>function</th>\n",
       "      <th>fraudulent</th>\n",
       "      <th>text</th>\n",
       "    </tr>\n",
       "  </thead>\n",
       "  <tbody>\n",
       "    <tr>\n",
       "      <th>0</th>\n",
       "      <td>DIDNOTPROVIDEsalary_range</td>\n",
       "      <td>0</td>\n",
       "      <td>1</td>\n",
       "      <td>0</td>\n",
       "      <td>Other</td>\n",
       "      <td>Internship</td>\n",
       "      <td>DIDNOTPROVIDErequired_education</td>\n",
       "      <td>DIDNOTPROVIDEindustry</td>\n",
       "      <td>Marketing</td>\n",
       "      <td>0</td>\n",
       "      <td>Marketing Intern Marketing US, NY, New York We...</td>\n",
       "    </tr>\n",
       "    <tr>\n",
       "      <th>1</th>\n",
       "      <td>DIDNOTPROVIDEsalary_range</td>\n",
       "      <td>0</td>\n",
       "      <td>1</td>\n",
       "      <td>0</td>\n",
       "      <td>Full-time</td>\n",
       "      <td>Not Applicable</td>\n",
       "      <td>DIDNOTPROVIDErequired_education</td>\n",
       "      <td>Marketing and Advertising</td>\n",
       "      <td>Customer Service</td>\n",
       "      <td>0</td>\n",
       "      <td>Customer Service - Cloud Video Production Succ...</td>\n",
       "    </tr>\n",
       "    <tr>\n",
       "      <th>2</th>\n",
       "      <td>DIDNOTPROVIDEsalary_range</td>\n",
       "      <td>0</td>\n",
       "      <td>1</td>\n",
       "      <td>0</td>\n",
       "      <td>DIDNOTPROVIDEemployment_type</td>\n",
       "      <td>DIDNOTPROVIDErequired_experience</td>\n",
       "      <td>DIDNOTPROVIDErequired_education</td>\n",
       "      <td>DIDNOTPROVIDEindustry</td>\n",
       "      <td>DIDNOTPROVIDEfunction</td>\n",
       "      <td>0</td>\n",
       "      <td>Commissioning Machinery Assistant (CMA) DIDNOT...</td>\n",
       "    </tr>\n",
       "  </tbody>\n",
       "</table>\n",
       "</div>"
      ],
      "text/plain": [
       "                salary_range  telecommuting  has_company_logo  has_questions  \\\n",
       "0  DIDNOTPROVIDEsalary_range              0                 1              0   \n",
       "1  DIDNOTPROVIDEsalary_range              0                 1              0   \n",
       "2  DIDNOTPROVIDEsalary_range              0                 1              0   \n",
       "\n",
       "                employment_type               required_experience  \\\n",
       "0                         Other                        Internship   \n",
       "1                     Full-time                    Not Applicable   \n",
       "2  DIDNOTPROVIDEemployment_type  DIDNOTPROVIDErequired_experience   \n",
       "\n",
       "                required_education                   industry  \\\n",
       "0  DIDNOTPROVIDErequired_education      DIDNOTPROVIDEindustry   \n",
       "1  DIDNOTPROVIDErequired_education  Marketing and Advertising   \n",
       "2  DIDNOTPROVIDErequired_education      DIDNOTPROVIDEindustry   \n",
       "\n",
       "                function  fraudulent  \\\n",
       "0              Marketing           0   \n",
       "1       Customer Service           0   \n",
       "2  DIDNOTPROVIDEfunction           0   \n",
       "\n",
       "                                                text  \n",
       "0  Marketing Intern Marketing US, NY, New York We...  \n",
       "1  Customer Service - Cloud Video Production Succ...  \n",
       "2  Commissioning Machinery Assistant (CMA) DIDNOT...  "
      ]
     },
     "execution_count": 7,
     "metadata": {},
     "output_type": "execute_result"
    }
   ],
   "source": [
    "df.head(3)"
   ]
  },
  {
   "cell_type": "markdown",
   "metadata": {},
   "source": [
    "### Text Processing Pipeline"
   ]
  },
  {
   "cell_type": "code",
   "execution_count": 8,
   "metadata": {},
   "outputs": [
    {
     "name": "stderr",
     "output_type": "stream",
     "text": [
      "Since the GPL-licensed package `unidecode` is not installed, using Python's `unicodedata` package which yields worse results.\n",
      "[nltk_data] Downloading package stopwords to\n",
      "[nltk_data]     C:\\Users\\jonat\\AppData\\Roaming\\nltk_data...\n",
      "[nltk_data]   Package stopwords is already up-to-date!\n",
      "[nltk_data] Downloading package averaged_perceptron_tagger to\n",
      "[nltk_data]     C:\\Users\\jonat\\AppData\\Roaming\\nltk_data...\n",
      "[nltk_data]   Package averaged_perceptron_tagger is already up-to-\n",
      "[nltk_data]       date!\n"
     ]
    },
    {
     "data": {
      "text/plain": [
       "True"
      ]
     },
     "execution_count": 8,
     "metadata": {},
     "output_type": "execute_result"
    }
   ],
   "source": [
    "from cleantext import clean\n",
    "import nltk\n",
    "from nltk.stem import WordNetLemmatizer\n",
    "from nltk.corpus import stopwords, wordnet\n",
    "from nltk.tokenize import word_tokenize\n",
    "nltk.download('stopwords')\n",
    "nltk.download('averaged_perceptron_tagger')"
   ]
  },
  {
   "cell_type": "code",
   "execution_count": 9,
   "metadata": {},
   "outputs": [
    {
     "name": "stdout",
     "output_type": "stream",
     "text": [
      "Before: Jr. Developer DIDNOTPROVIDEdepartment US DIDNOTPROVIDEcompany_profile Entry level Software DeveloperLocation : Atlanta, GeorgiaExperience : 1-2 yearsExperience in a production web environment implementing mission critical services.Development of Web Server side PHP in LAMP environments Having experience with XHTML / CSS/ Javascript ia a plus, Knowledge in any of the JavaScript Frameworks and supportive technologiesFamiliarity with Debian Linux,OS X, Ubuntu DIDNOTPROVIDErequirements DIDNOTPROVIDEbenefits\n",
      "After: jr developer didnotprovidedepartment us didnotprovidecompanyprofile entry level software developerlocation atlanta georgiaexperience 12 yearsexperience in a production web environment implementing mission critical servicesdevelopment of web server side php in lamp environments having experience with xhtml css javascript ia a plus knowledge in any of the javascript frameworks and supportive technologiesfamiliarity with debian linuxos x ubuntu didnotproviderequirements didnotprovidebenefits\n"
     ]
    }
   ],
   "source": [
    "print(\"Before: \" + df[\"text\"][42])\n",
    "df[\"text\"] = df [\"text\"].apply(lambda x: clean(x, fix_unicode=True, to_ascii=True, lower=True, no_urls=True, no_punct=True))\n",
    "print(\"After: \" + df[\"text\"][42])"
   ]
  },
  {
   "cell_type": "code",
   "execution_count": 10,
   "metadata": {},
   "outputs": [],
   "source": [
    "def pos_tagger(nltk_tag):\n",
    "    if nltk_tag.startswith(\"J\"):\n",
    "        return wordnet.ADJ\n",
    "    elif nltk_tag.startswith(\"V\"):\n",
    "        return wordnet.VERB\n",
    "    elif nltk_tag.startswith(\"N\"):\n",
    "        return wordnet.NOUN\n",
    "    elif nltk_tag.startswith(\"R\"):\n",
    "        return wordnet.ADV\n",
    "    else:          \n",
    "        return None\n",
    "\n",
    "lemmer = WordNetLemmatizer()\n",
    "stop_words = set(stopwords.words(\"english\"))\n",
    "\n",
    "def process_text(s):\n",
    "    tokens = nltk.pos_tag(word_tokenize(s))\n",
    "    tokens = list(map(lambda x: (x[0], pos_tagger(x[1])), tokens))\n",
    "    result = []\n",
    "    for word, tag in tokens:\n",
    "        if word in stop_words:\n",
    "            continue\n",
    "\n",
    "        if tag is None:\n",
    "            result.append(word)\n",
    "        else:\n",
    "            result.append(lemmer.lemmatize(word, tag))\n",
    "    return \" \".join(result)"
   ]
  },
  {
   "cell_type": "code",
   "execution_count": 11,
   "metadata": {},
   "outputs": [
    {
     "name": "stdout",
     "output_type": "stream",
     "text": [
      "Before: jr developer didnotprovidedepartment us didnotprovidecompanyprofile entry level software developerlocation atlanta georgiaexperience 12 yearsexperience in a production web environment implementing mission critical servicesdevelopment of web server side php in lamp environments having experience with xhtml css javascript ia a plus knowledge in any of the javascript frameworks and supportive technologiesfamiliarity with debian linuxos x ubuntu didnotproviderequirements didnotprovidebenefits\n",
      "After: jr developer didnotprovidedepartment us didnotprovidecompanyprofile entry level software developerlocation atlanta georgiaexperience 12 yearsexperience production web environment implement mission critical servicesdevelopment web server side php lamp environment experience xhtml cs javascript ia plus knowledge javascript framework supportive technologiesfamiliarity debian linuxos x ubuntu didnotproviderequirements didnotprovidebenefits\n"
     ]
    }
   ],
   "source": [
    "print(\"Before: \" + df[\"text\"][42])\n",
    "df[\"text\"] = df[\"text\"].apply(lambda x: process_text(x))\n",
    "print(\"After: \" + df[\"text\"][42])"
   ]
  },
  {
   "cell_type": "markdown",
   "metadata": {},
   "source": [
    "### Baseline embedding and model training"
   ]
  },
  {
   "cell_type": "code",
   "execution_count": 12,
   "metadata": {},
   "outputs": [],
   "source": [
    "from sklearn.feature_extraction.text import CountVectorizer\n",
    "from sklearn.model_selection import train_test_split\n",
    "from sklearn.linear_model import LogisticRegression\n",
    "from sklearn import metrics"
   ]
  },
  {
   "cell_type": "code",
   "execution_count": 13,
   "metadata": {},
   "outputs": [],
   "source": [
    "vectorizer = CountVectorizer()\n",
    "baseline_vectors = vectorizer.fit_transform(df[\"text\"])\n",
    "baseline_x_train, baseline_x_test, baseline_y_train, baseline_y_test = train_test_split(baseline_vectors, df[\"fraudulent\"], test_size=0.2, random_state=42)"
   ]
  },
  {
   "cell_type": "code",
   "execution_count": 14,
   "metadata": {},
   "outputs": [],
   "source": [
    "baseline_model_zero = LogisticRegression(C=0.001, tol=0.1, random_state=42).fit(baseline_x_train, baseline_y_train)"
   ]
  },
  {
   "cell_type": "code",
   "execution_count": 15,
   "metadata": {},
   "outputs": [
    {
     "data": {
      "text/plain": [
       "0.9493847874720358"
      ]
     },
     "execution_count": 15,
     "metadata": {},
     "output_type": "execute_result"
    }
   ],
   "source": [
    "y_pred = baseline_model_zero.predict(baseline_x_test)\n",
    "metrics.accuracy_score(baseline_y_test, y_pred)"
   ]
  },
  {
   "cell_type": "code",
   "execution_count": 16,
   "metadata": {},
   "outputs": [],
   "source": [
    "baseline_model_one = LogisticRegression(C=0.1, tol=0.01, random_state=42).fit(baseline_x_train, baseline_y_train)"
   ]
  },
  {
   "cell_type": "code",
   "execution_count": 17,
   "metadata": {},
   "outputs": [
    {
     "data": {
      "text/plain": [
       "0.979586129753915"
      ]
     },
     "execution_count": 17,
     "metadata": {},
     "output_type": "execute_result"
    }
   ],
   "source": [
    "y_pred = baseline_model_one.predict(baseline_x_test)\n",
    "metrics.accuracy_score(baseline_y_test, y_pred)"
   ]
  },
  {
   "cell_type": "markdown",
   "metadata": {},
   "source": [
    "### Embeddings/Representation"
   ]
  },
  {
   "cell_type": "code",
   "execution_count": 18,
   "metadata": {},
   "outputs": [],
   "source": [
    "from gensim.models import Word2Vec\n",
    "from gensim.models.doc2vec import Doc2Vec, TaggedDocument\n",
    "import gensim\n",
    "from sklearn.feature_extraction.text import TfidfVectorizer"
   ]
  },
  {
   "cell_type": "code",
   "execution_count": 19,
   "metadata": {},
   "outputs": [],
   "source": [
    "sentences = []\n",
    "for text in df[\"text\"]:\n",
    "    sentences.append(word_tokenize(text))"
   ]
  },
  {
   "cell_type": "code",
   "execution_count": 20,
   "metadata": {},
   "outputs": [],
   "source": [
    "w2v_cbow = Word2Vec(sentences, vector_size=100, window=5, min_count=20, sg=0)\n",
    "w2v_skgr = Word2Vec(sentences, vector_size=100, window=5, min_count=20, sg=1)"
   ]
  },
  {
   "cell_type": "code",
   "execution_count": 21,
   "metadata": {},
   "outputs": [],
   "source": [
    "w2v_cbow_x = []\n",
    "w2v_skgr_x = []\n",
    "for sentence in df[\"text\"]:\n",
    "    words = word_tokenize(sentence)\n",
    "    w2v_cbow_x.append(w2v_cbow.wv.get_mean_vector(words))\n",
    "    w2v_skgr_x.append(w2v_skgr.wv.get_mean_vector(words))\n",
    "w2v_cbow_x_train, w2v_cbow_x_test, w2v_cbow_y_train, w2v_cbow_y_test = train_test_split(w2v_cbow_x, df[\"fraudulent\"], test_size=0.2, random_state=42)\n",
    "w2v_skgr_x_train, w2v_skgr_x_test, w2v_skgr_y_train, w2v_skgr_y_test = train_test_split(w2v_skgr_x, df[\"fraudulent\"], test_size=0.2, random_state=42)"
   ]
  },
  {
   "cell_type": "code",
   "execution_count": 22,
   "metadata": {},
   "outputs": [
    {
     "data": {
      "text/plain": [
       "[TaggedDocument(words=['marketing', 'intern', 'marketing', 'us', 'ny', 'new', 'york', 'food52', 'weve', 'create', 'groundbreaking', 'awardwinning', 'cook', 'site', 'support', 'connect', 'celebrate', 'home', 'cook', 'give', 'everything', 'need', 'one', 'placewe', 'top', 'editorial', 'business', 'engineering', 'team', 'focus', 'use', 'technology', 'find', 'new', 'good', 'way', 'connect', 'people', 'around', 'specific', 'food', 'interest', 'offer', 'superb', 'highly', 'curated', 'information', 'food', 'cooking', 'attract', 'talented', 'home', 'cook', 'contributor', 'country', 'also', 'publish', 'wellknown', 'professional', 'like', 'mario', 'batali', 'gwyneth', 'paltrow', 'danny', 'meyer', 'partnership', 'whole', 'food', 'market', 'random', 'housefood52', 'name', 'best', 'food', 'website', 'james', 'beard', 'foundation', 'iacp', 'feature', 'new', 'york', 'time', 'npr', 'pando', 'daily', 'techcrunch', 'today', 'showwere', 'locate', 'chelsea', 'new', 'york', 'city', 'food52', 'fastgrowing', 'jam', 'beard', 'awardwinning', 'online', 'food', 'community', 'crowdsourced', 'curated', 'recipe', 'hub', 'currently', 'interview', 'full', 'parttime', 'unpaid', 'intern', 'work', 'small', 'team', 'editor', 'executive', 'developer', 'new', 'york', 'city', 'headquartersreproducing', 'andor', 'repackaging', 'exist', 'food52', 'content', 'number', 'partner', 'site', 'huffington', 'post', 'yahoo', 'buzzfeed', 'various', 'content', 'management', 'systemsresearching', 'blog', 'website', 'provision', 'food52', 'affiliate', 'programassisting', 'daytoday', 'affiliate', 'program', 'support', 'screen', 'affiliate', 'assist', 'affiliate', 'inquiriessupporting', 'pr', 'event', 'neededhelping', 'office', 'administrative', 'work', 'file', 'mailing', 'prepare', 'meetingsworking', 'developer', 'document', 'bug', 'suggest', 'improvement', 'sitesupporting', 'marketing', 'executive', 'staff', 'experience', 'content', 'management', 'system', 'major', 'plus', 'blogging', 'countsfamiliar', 'food52', 'editorial', 'voice', 'aestheticloves', 'food', 'appreciate', 'importance', 'home', 'cooking', 'cooking', 'seasonsmeticulous', 'editor', 'perfectionist', 'obsessive', 'attention', 'detail', 'madden', 'typo', 'broken', 'link', 'delight', 'find', 'fix', 'themcheerful', 'pressureexcellent', 'communication', 'skillsa+', 'multitasker', 'juggler', 'responsibility', 'big', 'smallinterested', 'engage', 'social', 'medium', 'like', 'twitter', 'facebook', 'pinterestloves', 'problemsolving', 'collaborate', 'drive', 'food52', 'forwardthinks', 'big', 'picture', 'pitch', 'nitty', 'gritty', 'run', 'small', 'company', 'dish', 'shop', 'administrative', 'supportcomfortable', 'reality', 'work', 'startup', 'call', 'evening', 'weekend', 'work', 'long', 'hour', 'didnotprovidebenefits'], tags=['0']),\n",
       " TaggedDocument(words=['customer', 'service', 'cloud', 'video', 'production', 'success', 'nz', 'auckland', '90', 'second', 'world', 'cloud', 'video', 'production', 'service90', 'second', 'world', 'cloud', 'video', 'production', 'service', 'enable', 'brand', 'agency', 'get', 'high', 'quality', 'online', 'video', 'content', 'shot', 'produce', 'anywhere', 'world', '90', 'second', 'make', 'video', 'production', 'fast', 'affordable', 'manage', 'seamlessly', 'cloud', 'purchase', 'publish', 'http90urlfbe6559afac620a3cd2c22281f7b8d0eef56a73e3d9a311e2f1ca13d081dd63090', 'second', 'remove', 'hassle', 'cost', 'risk', 'speed', 'issue', 'work', 'regular', 'video', 'production', 'company', 'manage', 'every', 'aspect', 'video', 'project', 'beautiful', 'online', 'experience', 'grow', 'global', 'network', '2000', 'rated', 'video', 'professional', '50', 'country', 'manage', 'dedicated', 'production', 'success', 'team', '5', 'country', '90', 'second', 'provide', '100', 'success', 'guarantee90', 'second', 'produce', 'almost', '4000', 'video', '30', 'country', '500', 'global', 'brand', 'include', 'world', 'large', 'include', 'paypal', 'loreal', 'sony', 'barclays', 'office', 'auckland', 'london', 'sydney', 'tokyo', 'singaporehttp90urlfbe6559afac620a3cd2c22281f7b8d0eef56a73e3d9a311e2f1ca13d081dd630|http90urle2ad0bde3f09a0913a486abdbb1e6ac373bb3310f64b1fbcf550049bcba4a17b|', 'http90url8c5dd1806f97ab90876d9daebeb430f682dbc87e2f01549b47e96c7bff2ea17e', 'organise', 'focused', 'vibrant', 'awesomedo', 'passion', 'customer', 'service', 'slick', 'type', 'skill', 'maybe', 'account', 'management', 'think', 'administration', 'cool', 'polar', 'bear', 'jetski', 'need', 'hear', 'youwe', 'cloud', 'video', 'production', 'service', 'opperating', 'glodal', 'level', 'yeah', 'pretty', 'cool', 'serious', 'aboutdelivering', 'world', 'class', 'product', 'excellent', 'customer', 'serviceour', 'rapidly', 'expand', 'business', 'look', 'talented', 'project', 'manager', 'manage', 'successful', 'delivery', 'video', 'project', 'manage', 'client', 'communication', 'drive', 'production', 'process', 'work', 'cool', 'brand', 'planet', 'learn', 'global', 'team', 'represent', 'nz', 'huge', 'waywe', 'enter', 'next', 'growth', 'stage', 'business', 'grow', 'quickly', 'internationally', 'therefore', 'position', 'burst', 'opportunity', 'right', 'person', 'enter', 'business', 'right', 'time90', 'second', 'world', 'cloud', 'video', 'production', 'service', 'http90urlfbe6559afac620a3cd2c22281f7b8d0eef56a73e3d9a311e2f1ca13d081dd63090', 'second', 'world', 'cloud', 'video', 'production', 'service', 'enable', 'brand', 'agency', 'get', 'high', 'quality', 'online', 'video', 'content', 'shot', 'produce', 'anywhere', 'world', 'fast', 'affordable', 'manage', 'seamlessly', 'cloud', 'purchase', 'publish90', 'second', 'remove', 'hassle', 'cost', 'risk', 'speed', 'issue', 'work', 'regular', 'video', 'production', 'company', 'manage', 'every', 'aspect', 'video', 'project', 'beautiful', 'online', 'experience', 'grow', 'network', '2000', 'rated', 'video', 'professional', '50', 'country', 'dedicated', 'production', 'success', 'team', '5', 'country', 'guarantee', 'video', 'project', 'success', '100', 'easy', 'commission', 'quick', 'google', 'adwords', 'campaign90', 'second', 'produce', 'almost', '4000', 'video', '30', 'country', '500', 'global', 'brand', 'include', 'world', 'large', 'include', 'paypal', 'loreal', 'sony', 'barclays', 'office', 'auckland', 'london', 'sydney', 'tokyo', 'singaporeour', 'auckland', 'office', 'basedright', 'heart', 'wynyard', 'quarter', 'innovation', 'precinct', 'gridakl', 'expect', 'youyour', 'key', 'responsibility', 'communicate', 'client', '90', 'second', 'team', 'freelance', 'community', 'throughout', 'video', 'production', 'process', 'include', 'shoot', 'planning', 'secure', 'freelance', 'talent', 'manage', 'workflow', 'online', 'production', 'management', 'system', 'aim', 'manage', 'video', 'project', 'effectively', 'produce', 'great', 'video', 'client', 'lovekeyattributesclient', 'focus', 'excellent', 'customer', 'service', 'communication', 'skillsonline', 'oustanding', 'computer', 'knowledge', 'experience', 'use', 'online', 'software', 'project', 'management', 'toolsorganised', 'manage', 'workload', 'able', 'multitask100', 'attention', 'detailmotivated', 'selfstarter', 'passion', 'excellent', 'work', 'achieve', 'great', 'resultsadaptable', 'show', 'initiative', 'think', 'foot', 'constantly', 'evolve', 'atmosphereflexible', 'fast', 'turnaround', 'work', 'hour', 'availabilityeasy', 'go', 'upbeat', 'dosent', 'get', 'bogged', 'love', 'challengesense', 'humour', 'laugh', 'know', 'work', 'startup', 'take', 'gutsability', 'deliver', 'include', 'meeting', 'project', 'deadline', 'budgetattitude', 'important', 'experience', '90', 'second', 'however', 'previous', 'experience', 'customer', 'service', 'andor', 'project', 'management', 'beneficialplease', 'view', 'platform', 'website', 'aturl395a8683a907ce95f49a12fb240e6e47ad8d5a4f96d07ebbd869c4dd4dea1826and', 'get', 'clear', 'understand', 'reach', 'get', 'usthrough', 'part', '90', 'second', 'team', 'gainexperience', 'work', 'project', 'locate', 'around', 'world', 'international', 'brandexperience', 'work', 'variety', 'client', 'large', 'range', 'projectsopportunity', 'drive', 'grow', 'production', 'function', 'teama', 'positive', 'work', 'environment', 'great', 'teampay', '$', '40000', '$', '55000applying', 'role', 'videobeing', 'video', 'business', 'understand', 'one', 'quick', 'way', 'assess', 'suitability', 'role', 'one', 'quick', 'way', 'apply', 'submit', '6090', 'second', 'long', 'video', 'tell', 'us', 'experience', 'think', 'would', 'perfect', 'role', 'filmmaker', 'make', 'really', 'creative', 'video', 'simple', 'video', 'film', 'smart', 'phone', 'web', 'cam', 'fine', 'please', 'also', 'include', 'base', 'startyou', 'upload', 'video', 'onto', 'youtube', 'vimeo', 'similar', 'draft', 'live', 'linkapplications', 'due', '5pm', 'wednesday', '18th', 'july', '2014', 'video', 'ready', 'apply', 'role', 'via', 'following', 'link', 'together', 'cover', 'letter', 'cvafter', 'watch', 'video', 'get', 'idea', 'suitability', 'role', 'email', 'shortlisted', 'candidate'], tags=['1']),\n",
       " TaggedDocument(words=['commission', 'machinery', 'assistant', 'cma', 'didnotprovidedepartment', 'us', 'ia', 'wever', 'valor', 'service', 'provide', 'workforce', 'solution', 'meet', 'need', 'company', 'across', 'private', 'sector', 'special', 'focus', 'oil', 'gas', 'industryvalor', 'service', 'involve', 'throughout', 'every', 'step', 'hiring', 'process', 'remain', 'contact', 'way', 'final', 'step', 'signing', 'employment', 'contract', 'new', 'employervalor', 'service', 'found', 'vision', 'employ', 'unique', 'skill', 'experience', 'quality', 'americas', 'fine', 'veteran', 'provide', 'private', 'sector', 'company', 'precise', 'concert', 'valueadded', 'service', 'americas', 'fine', 'veteran', 'optimized', 'career', 'opportunitywe', 'eager', 'get', 'word', 'veteran', 'ample', 'opportunity', 'employment', 'private', 'sector', 'ideal', 'candidate', 'fill', 'positionsvalor', 'servicesyour', 'success', 'mission™️', 'client', 'locate', 'houston', 'actively', 'seek', 'experienced', 'commissioning', 'machinery', 'assistant', 'possess', 'strong', 'supervisory', 'skill', 'attention', 'detail', 'strong', 'dedication', 'safety', 'must', 'ideal', 'candidate', 'execute', 'activity', 'comply', 'quality', 'requirement', 'health', 'environmental', 'safety', 'regulation', 'implement', 'precommissioning', 'commissioning', 'procedure', 'rotary', 'equipmentexecute', 'activity', 'subcontractor', 'assign', 'crew', 'pertain', 'disciplineensure', 'effective', 'utilization', 'commission', 'manpower', 'consumablesensure', 'execution', 'vendor', 'specialist', 'field', 'activity', 'assigned', 'resource', 'subcontractor', 'per', 'vendor', 'representative', 'planscarry', 'equipment', 'inspection', 'client', 'representative', 'ensure', 'proper', 'certification', 'producedprepare', 'form', 'pending', 'test', 'submit', 'sign', 'certificate', 'final', 'hand', 'certification', 'engineer', 'qa', 'qccoordinate', 'field', 'vendor', 'representativeskeep', 'record', 'activitiesensure', 'safety', 'practice', 'strictly', 'follow', 'execution', 'activitiesreport', 'progress', 'constraint', 'mechanical', 'supervisorpossible', 'authorization', 'site', 'manager', 'receive', 'issue', 'permit', 'work', 'accord', 'project', 'permit', 'work', 'proceduresassist', 'supervisor', 'expedite', 'pending', 'punchlist', 'item', 'accordance', 'commissioning', 'manager', 'prioritiesassist', 'supervisor', 'coordinate', 'supervise', 'constructionsupport', 'activity', 'precommissioning', 'commission', 'activitiescompany', 'overviewour', 'client', 'premiere', 'engineering', 'construction', 'procurement', 'company', 'execute', 'largescale', 'project', 'internationally', 'didnotprovidebenefits'], tags=['2'])]"
      ]
     },
     "execution_count": 22,
     "metadata": {},
     "output_type": "execute_result"
    }
   ],
   "source": [
    "tagged_data = [TaggedDocument(words=word_tokenize(doc), tags=[str(i)]) for i, doc in enumerate(df[\"text\"])]\n",
    "tagged_data[:3]"
   ]
  },
  {
   "cell_type": "code",
   "execution_count": 23,
   "metadata": {},
   "outputs": [],
   "source": [
    "d2v_dbow = Doc2Vec(documents=tagged_data, vector_size=100, window=5, min_count=20, dm=0)\n",
    "d2v_dm = Doc2Vec(documents=tagged_data, vector_size=100, window=5, min_count=20, dm=1)"
   ]
  },
  {
   "cell_type": "code",
   "execution_count": 24,
   "metadata": {},
   "outputs": [],
   "source": [
    "d2v_dbow_x = []\n",
    "d2v_dm_x = []\n",
    "for doc in df[\"text\"]:\n",
    "    tokens = word_tokenize(doc)\n",
    "    d2v_dbow_x.append(d2v_dbow.infer_vector(tokens))\n",
    "    d2v_dm_x.append(d2v_dm.infer_vector(tokens))\n",
    "d2v_dbow_x_train, d2v_dbow_x_test, d2v_dbow_y_train, d2v_dbow_y_test = train_test_split(d2v_dbow_x, df[\"fraudulent\"], test_size=0.2, random_state=42)\n",
    "d2v_dm_x_train, d2v_dm_x_test, d2v_dm_y_train, d2v_dm_y_test = train_test_split(d2v_dm_x, df[\"fraudulent\"], test_size=0.2, random_state=42)"
   ]
  },
  {
   "cell_type": "code",
   "execution_count": 25,
   "metadata": {},
   "outputs": [],
   "source": [
    "x_train, x_test, y_train, y_test = train_test_split(df[\"text\"], df[\"fraudulent\"], test_size=0.2, random_state=42)\n",
    "tfidf_vectorizer = TfidfVectorizer()\n",
    "tfidf_x_train = tfidf_vectorizer.fit_transform(x_train)\n",
    "tfidf_x_test = tfidf_vectorizer.transform(x_test)"
   ]
  },
  {
   "cell_type": "markdown",
   "metadata": {},
   "source": [
    "### Model training"
   ]
  },
  {
   "cell_type": "code",
   "execution_count": 26,
   "metadata": {},
   "outputs": [],
   "source": [
    "from sklearn.ensemble import AdaBoostClassifier, RandomForestClassifier, GradientBoostingClassifier\n",
    "from sklearn.svm import SVC\n",
    "from sklearn.neural_network import MLPClassifier"
   ]
  },
  {
   "cell_type": "code",
   "execution_count": 27,
   "metadata": {},
   "outputs": [],
   "source": [
    "classifiers = [\n",
    "    RandomForestClassifier(\n",
    "        max_depth=5, n_estimators=50, random_state=42\n",
    "    ),\n",
    "    AdaBoostClassifier(algorithm=\"SAMME\", random_state=42),\n",
    "    GradientBoostingClassifier(n_estimators=50, random_state=42),\n",
    "    SVC(C=1.5, kernel=\"sigmoid\"),\n",
    "    MLPClassifier(max_iter=200, solver=\"adam\")\n",
    "]"
   ]
  },
  {
   "cell_type": "code",
   "execution_count": 28,
   "metadata": {},
   "outputs": [
    {
     "name": "stdout",
     "output_type": "stream",
     "text": [
      "---- Word2Vec Continuous Bag of Words model results ----\n",
      "RandomForestClassifier(max_depth=5, n_estimators=50, random_state=42) accuracy = 0.959731543624161\n",
      "AdaBoostClassifier(algorithm='SAMME', random_state=42) accuracy = 0.9546979865771812\n",
      "GradientBoostingClassifier(n_estimators=50, random_state=42) accuracy = 0.9642058165548099\n",
      "SVC(C=1.5, kernel='sigmoid') accuracy = 0.9258948545861297\n",
      "MLPClassifier() accuracy = 0.9773489932885906\n"
     ]
    },
    {
     "name": "stderr",
     "output_type": "stream",
     "text": [
      "c:\\Users\\jonat\\Desktop\\University\\job-posting-validation\\venv\\Lib\\site-packages\\sklearn\\neural_network\\_multilayer_perceptron.py:691: ConvergenceWarning: Stochastic Optimizer: Maximum iterations (200) reached and the optimization hasn't converged yet.\n",
      "  warnings.warn(\n"
     ]
    }
   ],
   "source": [
    "print(\"---- Word2Vec Continuous Bag of Words model results ----\")\n",
    "for clf in classifiers:\n",
    "    clf.fit(w2v_cbow_x_train, w2v_cbow_y_train)\n",
    "    y_pred = clf.predict(w2v_cbow_x_test)\n",
    "    print(clf.__repr__() + \" accuracy = \" + str(metrics.accuracy_score(w2v_cbow_y_test, y_pred)))"
   ]
  },
  {
   "cell_type": "code",
   "execution_count": 29,
   "metadata": {},
   "outputs": [
    {
     "name": "stdout",
     "output_type": "stream",
     "text": [
      "---- Word2Vec Skip Gram model results ----\n"
     ]
    },
    {
     "name": "stdout",
     "output_type": "stream",
     "text": [
      "RandomForestClassifier(max_depth=5, n_estimators=50, random_state=42) accuracy = 0.9594519015659956\n",
      "AdaBoostClassifier(algorithm='SAMME', random_state=42) accuracy = 0.9549776286353467\n",
      "GradientBoostingClassifier(n_estimators=50, random_state=42) accuracy = 0.9644854586129754\n",
      "SVC(C=1.5, kernel='sigmoid') accuracy = 0.9488255033557047\n",
      "MLPClassifier() accuracy = 0.9762304250559284\n"
     ]
    },
    {
     "name": "stderr",
     "output_type": "stream",
     "text": [
      "c:\\Users\\jonat\\Desktop\\University\\job-posting-validation\\venv\\Lib\\site-packages\\sklearn\\neural_network\\_multilayer_perceptron.py:691: ConvergenceWarning: Stochastic Optimizer: Maximum iterations (200) reached and the optimization hasn't converged yet.\n",
      "  warnings.warn(\n"
     ]
    }
   ],
   "source": [
    "print(\"---- Word2Vec Skip Gram model results ----\")\n",
    "for clf in classifiers:\n",
    "    clf.fit(w2v_skgr_x_train, w2v_skgr_y_train)\n",
    "    y_pred = clf.predict(w2v_skgr_x_test)\n",
    "    print(clf.__repr__() + \" accuracy = \" + str(metrics.accuracy_score(w2v_skgr_y_test, y_pred)))"
   ]
  },
  {
   "cell_type": "code",
   "execution_count": 30,
   "metadata": {},
   "outputs": [
    {
     "name": "stdout",
     "output_type": "stream",
     "text": [
      "---- Doc2Vec Distributed Bag of Words model results ----\n"
     ]
    },
    {
     "name": "stdout",
     "output_type": "stream",
     "text": [
      "RandomForestClassifier(max_depth=5, n_estimators=50, random_state=42) accuracy = 0.9527404921700223\n",
      "AdaBoostClassifier(algorithm='SAMME', random_state=42) accuracy = 0.9502237136465325\n",
      "GradientBoostingClassifier(n_estimators=50, random_state=42) accuracy = 0.9658836689038032\n",
      "SVC(C=1.5, kernel='sigmoid') accuracy = 0.927013422818792\n",
      "MLPClassifier() accuracy = 0.9807046979865772\n"
     ]
    }
   ],
   "source": [
    "print(\"---- Doc2Vec Distributed Bag of Words model results ----\")\n",
    "for clf in classifiers:\n",
    "    clf.fit(d2v_dbow_x_train, d2v_dbow_y_train)\n",
    "    y_pred = clf.predict(d2v_dbow_x_test)\n",
    "    print(clf.__repr__() + \" accuracy = \" + str(metrics.accuracy_score(d2v_dbow_y_test, y_pred)))"
   ]
  },
  {
   "cell_type": "code",
   "execution_count": 31,
   "metadata": {},
   "outputs": [
    {
     "name": "stdout",
     "output_type": "stream",
     "text": [
      "---- Doc2Vec Distributed Momeory model results ----\n",
      "RandomForestClassifier(max_depth=5, n_estimators=50, random_state=42) accuracy = 0.9493847874720358\n",
      "AdaBoostClassifier(algorithm='SAMME', random_state=42) accuracy = 0.9493847874720358\n",
      "GradientBoostingClassifier(n_estimators=50, random_state=42) accuracy = 0.9493847874720358\n",
      "SVC(C=1.5, kernel='sigmoid') accuracy = 0.9205816554809844\n",
      "MLPClassifier() accuracy = 0.9697986577181208\n"
     ]
    }
   ],
   "source": [
    "print(\"---- Doc2Vec Distributed Momeory model results ----\")\n",
    "for clf in classifiers:\n",
    "    clf.fit(d2v_dm_x_train, d2v_dm_y_train)\n",
    "    y_pred = clf.predict(d2v_dm_x_test)\n",
    "    print(clf.__repr__() + \" accuracy = \" + str(metrics.accuracy_score(d2v_dm_y_test, y_pred)))"
   ]
  },
  {
   "cell_type": "code",
   "execution_count": 32,
   "metadata": {},
   "outputs": [
    {
     "name": "stdout",
     "output_type": "stream",
     "text": [
      "RandomForestClassifier(max_depth=5, n_estimators=50, random_state=42) accuracy = 0.9493847874720358\n",
      "AdaBoostClassifier(algorithm='SAMME', random_state=42) accuracy = 0.9555369127516778\n",
      "GradientBoostingClassifier(n_estimators=50, random_state=42) accuracy = 0.9753914988814317\n",
      "SVC(C=1.5, kernel='sigmoid') accuracy = 0.9862975391498882\n",
      "MLPClassifier() accuracy = 0.9862975391498882\n"
     ]
    },
    {
     "name": "stderr",
     "output_type": "stream",
     "text": [
      "c:\\Users\\jonat\\Desktop\\University\\job-posting-validation\\venv\\Lib\\site-packages\\sklearn\\neural_network\\_multilayer_perceptron.py:698: UserWarning: Training interrupted by user.\n",
      "  warnings.warn(\"Training interrupted by user.\")\n"
     ]
    }
   ],
   "source": [
    "for clf in classifiers:\n",
    "    clf.fit(tfidf_x_train, y_train)\n",
    "    y_pred = clf.predict(tfidf_x_test)\n",
    "    print(clf.__repr__() + \" accuracy = \" + str(metrics.accuracy_score(y_test, y_pred)))"
   ]
  },
  {
   "cell_type": "markdown",
   "metadata": {},
   "source": [
    "### Hyper-parameter optimization"
   ]
  },
  {
   "cell_type": "code",
   "execution_count": 33,
   "metadata": {},
   "outputs": [
    {
     "name": "stderr",
     "output_type": "stream",
     "text": [
      "c:\\Users\\jonat\\Desktop\\University\\job-posting-validation\\venv\\Lib\\site-packages\\tqdm\\auto.py:21: TqdmWarning: IProgress not found. Please update jupyter and ipywidgets. See https://ipywidgets.readthedocs.io/en/stable/user_install.html\n",
      "  from .autonotebook import tqdm as notebook_tqdm\n"
     ]
    }
   ],
   "source": [
    "import optuna"
   ]
  },
  {
   "cell_type": "code",
   "execution_count": 34,
   "metadata": {},
   "outputs": [],
   "source": [
    "def objective_function(trial):\n",
    "    svc_params = {\n",
    "        \"C\": trial.suggest_float(\"C\", 0.1, 5.0),\n",
    "        \"kernel\": trial.suggest_categorical(\"activation\", [\"linear\", \"poly\", \"rbf\", \"sigmoid\"]),\n",
    "        \"tol\": trial.suggest_float(\"tol\", 0.0001, 0.01),\n",
    "        \n",
    "    }\n",
    "\n",
    "\n",
    "    model = SVC(**svc_params, random_state=42)\n",
    "    %timeit\n",
    "    model.fit(tfidf_x_train, y_train)\n",
    "    y_pred = model.predict(tfidf_x_test)\n",
    "    return metrics.accuracy_score(y_test, y_pred)\n",
    "    "
   ]
  },
  {
   "cell_type": "code",
   "execution_count": 35,
   "metadata": {},
   "outputs": [
    {
     "name": "stderr",
     "output_type": "stream",
     "text": [
      "[I 2024-05-08 09:00:17,093] A new study created in memory with name: no-name-874f4932-edb2-4104-a1fb-63e332c9a62b\n",
      "[I 2024-05-08 09:04:50,296] Trial 0 finished with value: 0.9848993288590604 and parameters: {'C': 4.741052815847623, 'activation': 'rbf', 'tol': 0.006762588491780864}. Best is trial 0 with value: 0.9848993288590604.\n",
      "[I 2024-05-08 09:05:58,233] Trial 1 finished with value: 0.9876957494407159 and parameters: {'C': 4.3177915154661966, 'activation': 'linear', 'tol': 0.003923958898879088}. Best is trial 1 with value: 0.9876957494407159.\n",
      "[I 2024-05-08 09:07:03,734] Trial 2 finished with value: 0.9862975391498882 and parameters: {'C': 1.2506495663165214, 'activation': 'linear', 'tol': 0.008112203585580116}. Best is trial 1 with value: 0.9876957494407159.\n",
      "[I 2024-05-08 09:08:53,712] Trial 3 finished with value: 0.9865771812080537 and parameters: {'C': 3.6055150692192495, 'activation': 'sigmoid', 'tol': 0.0044091129284253155}. Best is trial 1 with value: 0.9876957494407159.\n",
      "[I 2024-05-08 09:09:45,376] Trial 4 finished with value: 0.9865771812080537 and parameters: {'C': 4.667060160256274, 'activation': 'sigmoid', 'tol': 0.0067503794492323466}. Best is trial 1 with value: 0.9876957494407159.\n"
     ]
    }
   ],
   "source": [
    "study = optuna.create_study(direction=\"maximize\")\n",
    "study.optimize(objective_function, n_trials=5)"
   ]
  },
  {
   "cell_type": "markdown",
   "metadata": {},
   "source": [
    "### Error analysis"
   ]
  },
  {
   "cell_type": "code",
   "execution_count": 36,
   "metadata": {},
   "outputs": [],
   "source": [
    "x_train, x_test, y_train, y_test, i_train, i_test = train_test_split(df[\"text\"], df[\"fraudulent\"], df.index, test_size=0.2, random_state=42)\n",
    "tfidf_vectorizer = TfidfVectorizer()\n",
    "tfidf_x_train = tfidf_vectorizer.fit_transform(x_train)\n",
    "tfidf_x_test = tfidf_vectorizer.transform(x_test)"
   ]
  },
  {
   "cell_type": "code",
   "execution_count": 37,
   "metadata": {},
   "outputs": [],
   "source": [
    "best_model_1 = SVC(C=3.711833365176469, kernel=\"linear\", tol=0.004461313736508392)\n",
    "best_model_1.fit(tfidf_x_train, y_train)\n",
    "\n",
    "y_pred = best_model_1.predict(tfidf_x_test)\n",
    "\n",
    "best_model_2 = SVC(C=1.1434132294848873, kernel=\"linear\", tol=0.0010063996033788008)\n",
    "best_model_2.fit(tfidf_x_train, y_train)\n",
    "y_pred_2 = best_model_2.predict(tfidf_x_test)"
   ]
  },
  {
   "cell_type": "code",
   "execution_count": 38,
   "metadata": {},
   "outputs": [],
   "source": [
    "errors_dict = {\"text\": [], \"prediction\": [], \"actual\": []}\n",
    "for index, prediction, category in zip(i_test, y_pred, y_test):\n",
    "    if prediction != category:\n",
    "        errors_dict[\"text\"].append(df.loc[index, \"text\"])\n",
    "        errors_dict[\"prediction\"].append(prediction)\n",
    "        errors_dict[\"actual\"].append(category)"
   ]
  },
  {
   "cell_type": "code",
   "execution_count": 39,
   "metadata": {},
   "outputs": [
    {
     "data": {
      "text/html": [
       "<div>\n",
       "<style scoped>\n",
       "    .dataframe tbody tr th:only-of-type {\n",
       "        vertical-align: middle;\n",
       "    }\n",
       "\n",
       "    .dataframe tbody tr th {\n",
       "        vertical-align: top;\n",
       "    }\n",
       "\n",
       "    .dataframe thead th {\n",
       "        text-align: right;\n",
       "    }\n",
       "</style>\n",
       "<table border=\"1\" class=\"dataframe\">\n",
       "  <thead>\n",
       "    <tr style=\"text-align: right;\">\n",
       "      <th></th>\n",
       "      <th>text</th>\n",
       "      <th>prediction</th>\n",
       "      <th>actual</th>\n",
       "    </tr>\n",
       "  </thead>\n",
       "  <tbody>\n",
       "    <tr>\n",
       "      <th>0</th>\n",
       "      <td>urgent requirement position technical lead rho...</td>\n",
       "      <td>0</td>\n",
       "      <td>1</td>\n",
       "    </tr>\n",
       "    <tr>\n",
       "      <th>1</th>\n",
       "      <td>resource change management process excellence ...</td>\n",
       "      <td>0</td>\n",
       "      <td>1</td>\n",
       "    </tr>\n",
       "    <tr>\n",
       "      <th>2</th>\n",
       "      <td>administrative manager client service us ky lo...</td>\n",
       "      <td>0</td>\n",
       "      <td>1</td>\n",
       "    </tr>\n",
       "  </tbody>\n",
       "</table>\n",
       "</div>"
      ],
      "text/plain": [
       "                                                text  prediction  actual\n",
       "0  urgent requirement position technical lead rho...           0       1\n",
       "1  resource change management process excellence ...           0       1\n",
       "2  administrative manager client service us ky lo...           0       1"
      ]
     },
     "execution_count": 39,
     "metadata": {},
     "output_type": "execute_result"
    }
   ],
   "source": [
    "df_errors = pd.DataFrame(errors_dict)\n",
    "df_errors.head(3)"
   ]
  }
 ],
 "metadata": {
  "kernelspec": {
   "display_name": "venv",
   "language": "python",
   "name": "python3"
  },
  "language_info": {
   "codemirror_mode": {
    "name": "ipython",
    "version": 3
   },
   "file_extension": ".py",
   "mimetype": "text/x-python",
   "name": "python",
   "nbconvert_exporter": "python",
   "pygments_lexer": "ipython3",
   "version": "3.11.6"
  }
 },
 "nbformat": 4,
 "nbformat_minor": 2
}
